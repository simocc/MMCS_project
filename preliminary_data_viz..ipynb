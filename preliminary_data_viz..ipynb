{
 "cells": [
  {
   "cell_type": "code",
   "execution_count": 1,
   "metadata": {},
   "outputs": [
    {
     "data": {
      "text/html": [
       "<div>\n",
       "<style scoped>\n",
       "    .dataframe tbody tr th:only-of-type {\n",
       "        vertical-align: middle;\n",
       "    }\n",
       "\n",
       "    .dataframe tbody tr th {\n",
       "        vertical-align: top;\n",
       "    }\n",
       "\n",
       "    .dataframe thead th {\n",
       "        text-align: right;\n",
       "    }\n",
       "</style>\n",
       "<table border=\"1\" class=\"dataframe\">\n",
       "  <thead>\n",
       "    <tr style=\"text-align: right;\">\n",
       "      <th></th>\n",
       "      <th>Ref</th>\n",
       "      <th>geometry</th>\n",
       "      <th>Number of Charging Points</th>\n",
       "      <th>Number of Slow Charging Points</th>\n",
       "      <th>Number of Fast Charging Points</th>\n",
       "      <th>Number of Rapid Charging Points</th>\n",
       "      <th>Number of PoI</th>\n",
       "      <th>Number of Potential Locations</th>\n",
       "      <th>Distance from Centre</th>\n",
       "      <th>NEIGHBORS</th>\n",
       "      <th>Demand_0</th>\n",
       "      <th>Demand_1</th>\n",
       "      <th>Demand_2</th>\n",
       "      <th>Demand_3</th>\n",
       "    </tr>\n",
       "  </thead>\n",
       "  <tbody>\n",
       "    <tr>\n",
       "      <th>0</th>\n",
       "      <td>1</td>\n",
       "      <td>POLYGON ((-3.105818823440952 56.44296858524104...</td>\n",
       "      <td>0</td>\n",
       "      <td>0</td>\n",
       "      <td>0</td>\n",
       "      <td>0</td>\n",
       "      <td>0</td>\n",
       "      <td>0</td>\n",
       "      <td>8403.561223</td>\n",
       "      <td>[2, 15, 16]</td>\n",
       "      <td>0.0</td>\n",
       "      <td>0.0</td>\n",
       "      <td>0.0</td>\n",
       "      <td>0.0</td>\n",
       "    </tr>\n",
       "    <tr>\n",
       "      <th>1</th>\n",
       "      <td>2</td>\n",
       "      <td>POLYGON ((-3.105961112538962 56.44786638257236...</td>\n",
       "      <td>0</td>\n",
       "      <td>0</td>\n",
       "      <td>0</td>\n",
       "      <td>0</td>\n",
       "      <td>0</td>\n",
       "      <td>0</td>\n",
       "      <td>8296.571785</td>\n",
       "      <td>[1, 3, 15, 16, 17]</td>\n",
       "      <td>0.0</td>\n",
       "      <td>0.0</td>\n",
       "      <td>0.0</td>\n",
       "      <td>0.0</td>\n",
       "    </tr>\n",
       "    <tr>\n",
       "      <th>2</th>\n",
       "      <td>3</td>\n",
       "      <td>POLYGON ((-3.106103446316349 56.45276417577815...</td>\n",
       "      <td>0</td>\n",
       "      <td>0</td>\n",
       "      <td>0</td>\n",
       "      <td>0</td>\n",
       "      <td>0</td>\n",
       "      <td>0</td>\n",
       "      <td>8224.414999</td>\n",
       "      <td>[2, 4, 16, 17, 18]</td>\n",
       "      <td>0.0</td>\n",
       "      <td>0.0</td>\n",
       "      <td>0.0</td>\n",
       "      <td>0.0</td>\n",
       "    </tr>\n",
       "    <tr>\n",
       "      <th>3</th>\n",
       "      <td>4</td>\n",
       "      <td>POLYGON ((-3.106245824792422 56.45766196485858...</td>\n",
       "      <td>0</td>\n",
       "      <td>0</td>\n",
       "      <td>0</td>\n",
       "      <td>0</td>\n",
       "      <td>0</td>\n",
       "      <td>0</td>\n",
       "      <td>8188.011805</td>\n",
       "      <td>[3, 5, 17, 18, 19]</td>\n",
       "      <td>0.0</td>\n",
       "      <td>0.0</td>\n",
       "      <td>0.0</td>\n",
       "      <td>0.0</td>\n",
       "    </tr>\n",
       "    <tr>\n",
       "      <th>4</th>\n",
       "      <td>5</td>\n",
       "      <td>POLYGON ((-3.106388247986505 56.46255974981385...</td>\n",
       "      <td>0</td>\n",
       "      <td>0</td>\n",
       "      <td>0</td>\n",
       "      <td>0</td>\n",
       "      <td>0</td>\n",
       "      <td>0</td>\n",
       "      <td>8187.839098</td>\n",
       "      <td>[4, 6, 18, 19, 20]</td>\n",
       "      <td>0.0</td>\n",
       "      <td>0.0</td>\n",
       "      <td>0.0</td>\n",
       "      <td>0.0</td>\n",
       "    </tr>\n",
       "    <tr>\n",
       "      <th>...</th>\n",
       "      <td>...</td>\n",
       "      <td>...</td>\n",
       "      <td>...</td>\n",
       "      <td>...</td>\n",
       "      <td>...</td>\n",
       "      <td>...</td>\n",
       "      <td>...</td>\n",
       "      <td>...</td>\n",
       "      <td>...</td>\n",
       "      <td>...</td>\n",
       "      <td>...</td>\n",
       "      <td>...</td>\n",
       "      <td>...</td>\n",
       "      <td>...</td>\n",
       "    </tr>\n",
       "    <tr>\n",
       "      <th>429</th>\n",
       "      <td>430</td>\n",
       "      <td>POLYGON ((-2.841505846300256 56.48913269331089...</td>\n",
       "      <td>0</td>\n",
       "      <td>0</td>\n",
       "      <td>0</td>\n",
       "      <td>0</td>\n",
       "      <td>0</td>\n",
       "      <td>0</td>\n",
       "      <td>8706.537927</td>\n",
       "      <td>[415, 416, 417, 429, 431]</td>\n",
       "      <td>0.0</td>\n",
       "      <td>0.0</td>\n",
       "      <td>0.0</td>\n",
       "      <td>0.0</td>\n",
       "    </tr>\n",
       "    <tr>\n",
       "      <th>430</th>\n",
       "      <td>431</td>\n",
       "      <td>POLYGON ((-2.841614325647596 56.49403083838651...</td>\n",
       "      <td>0</td>\n",
       "      <td>0</td>\n",
       "      <td>0</td>\n",
       "      <td>0</td>\n",
       "      <td>0</td>\n",
       "      <td>0</td>\n",
       "      <td>8908.916529</td>\n",
       "      <td>[416, 417, 418, 430, 432]</td>\n",
       "      <td>0.0</td>\n",
       "      <td>0.0</td>\n",
       "      <td>0.0</td>\n",
       "      <td>0.0</td>\n",
       "    </tr>\n",
       "    <tr>\n",
       "      <th>431</th>\n",
       "      <td>432</td>\n",
       "      <td>POLYGON ((-2.841722839098455 56.49892897943724...</td>\n",
       "      <td>0</td>\n",
       "      <td>0</td>\n",
       "      <td>0</td>\n",
       "      <td>0</td>\n",
       "      <td>0</td>\n",
       "      <td>0</td>\n",
       "      <td>9139.388454</td>\n",
       "      <td>[417, 418, 419, 431, 433]</td>\n",
       "      <td>0.0</td>\n",
       "      <td>0.0</td>\n",
       "      <td>0.0</td>\n",
       "      <td>0.0</td>\n",
       "    </tr>\n",
       "    <tr>\n",
       "      <th>432</th>\n",
       "      <td>433</td>\n",
       "      <td>POLYGON ((-2.841831386667599 56.50382711646336...</td>\n",
       "      <td>0</td>\n",
       "      <td>0</td>\n",
       "      <td>0</td>\n",
       "      <td>0</td>\n",
       "      <td>0</td>\n",
       "      <td>0</td>\n",
       "      <td>9395.886624</td>\n",
       "      <td>[418, 419, 420, 432, 434]</td>\n",
       "      <td>0.0</td>\n",
       "      <td>0.0</td>\n",
       "      <td>0.0</td>\n",
       "      <td>0.0</td>\n",
       "    </tr>\n",
       "    <tr>\n",
       "      <th>433</th>\n",
       "      <td>434</td>\n",
       "      <td>POLYGON ((-2.841939968369799 56.50872524946503...</td>\n",
       "      <td>0</td>\n",
       "      <td>0</td>\n",
       "      <td>0</td>\n",
       "      <td>0</td>\n",
       "      <td>0</td>\n",
       "      <td>0</td>\n",
       "      <td>9676.341567</td>\n",
       "      <td>[419, 420, 433]</td>\n",
       "      <td>0.0</td>\n",
       "      <td>0.0</td>\n",
       "      <td>0.0</td>\n",
       "      <td>0.0</td>\n",
       "    </tr>\n",
       "  </tbody>\n",
       "</table>\n",
       "<p>434 rows × 14 columns</p>\n",
       "</div>"
      ],
      "text/plain": [
       "     Ref                                           geometry  \\\n",
       "0      1  POLYGON ((-3.105818823440952 56.44296858524104...   \n",
       "1      2  POLYGON ((-3.105961112538962 56.44786638257236...   \n",
       "2      3  POLYGON ((-3.106103446316349 56.45276417577815...   \n",
       "3      4  POLYGON ((-3.106245824792422 56.45766196485858...   \n",
       "4      5  POLYGON ((-3.106388247986505 56.46255974981385...   \n",
       "..   ...                                                ...   \n",
       "429  430  POLYGON ((-2.841505846300256 56.48913269331089...   \n",
       "430  431  POLYGON ((-2.841614325647596 56.49403083838651...   \n",
       "431  432  POLYGON ((-2.841722839098455 56.49892897943724...   \n",
       "432  433  POLYGON ((-2.841831386667599 56.50382711646336...   \n",
       "433  434  POLYGON ((-2.841939968369799 56.50872524946503...   \n",
       "\n",
       "     Number of Charging Points  Number of Slow Charging Points  \\\n",
       "0                            0                               0   \n",
       "1                            0                               0   \n",
       "2                            0                               0   \n",
       "3                            0                               0   \n",
       "4                            0                               0   \n",
       "..                         ...                             ...   \n",
       "429                          0                               0   \n",
       "430                          0                               0   \n",
       "431                          0                               0   \n",
       "432                          0                               0   \n",
       "433                          0                               0   \n",
       "\n",
       "     Number of Fast Charging Points  Number of Rapid Charging Points  \\\n",
       "0                                 0                                0   \n",
       "1                                 0                                0   \n",
       "2                                 0                                0   \n",
       "3                                 0                                0   \n",
       "4                                 0                                0   \n",
       "..                              ...                              ...   \n",
       "429                               0                                0   \n",
       "430                               0                                0   \n",
       "431                               0                                0   \n",
       "432                               0                                0   \n",
       "433                               0                                0   \n",
       "\n",
       "     Number of PoI  Number of Potential Locations  Distance from Centre  \\\n",
       "0                0                              0           8403.561223   \n",
       "1                0                              0           8296.571785   \n",
       "2                0                              0           8224.414999   \n",
       "3                0                              0           8188.011805   \n",
       "4                0                              0           8187.839098   \n",
       "..             ...                            ...                   ...   \n",
       "429              0                              0           8706.537927   \n",
       "430              0                              0           8908.916529   \n",
       "431              0                              0           9139.388454   \n",
       "432              0                              0           9395.886624   \n",
       "433              0                              0           9676.341567   \n",
       "\n",
       "                     NEIGHBORS  Demand_0  Demand_1  Demand_2  Demand_3  \n",
       "0                  [2, 15, 16]       0.0       0.0       0.0       0.0  \n",
       "1           [1, 3, 15, 16, 17]       0.0       0.0       0.0       0.0  \n",
       "2           [2, 4, 16, 17, 18]       0.0       0.0       0.0       0.0  \n",
       "3           [3, 5, 17, 18, 19]       0.0       0.0       0.0       0.0  \n",
       "4           [4, 6, 18, 19, 20]       0.0       0.0       0.0       0.0  \n",
       "..                         ...       ...       ...       ...       ...  \n",
       "429  [415, 416, 417, 429, 431]       0.0       0.0       0.0       0.0  \n",
       "430  [416, 417, 418, 430, 432]       0.0       0.0       0.0       0.0  \n",
       "431  [417, 418, 419, 431, 433]       0.0       0.0       0.0       0.0  \n",
       "432  [418, 419, 420, 432, 434]       0.0       0.0       0.0       0.0  \n",
       "433            [419, 420, 433]       0.0       0.0       0.0       0.0  \n",
       "\n",
       "[434 rows x 14 columns]"
      ]
     },
     "execution_count": 1,
     "metadata": {},
     "output_type": "execute_result"
    }
   ],
   "source": [
    "import pandas\n",
    "\n",
    "excel_data_df = pandas.read_excel('Demand_data.xlsx')\n",
    "excel_data_df"
   ]
  },
  {
   "cell_type": "code",
   "execution_count": 15,
   "metadata": {},
   "outputs": [
    {
     "data": {
      "text/plain": [
       "4228.800344308638"
      ]
     },
     "execution_count": 15,
     "metadata": {},
     "output_type": "execute_result"
    }
   ],
   "source": [
    "alist[8][1]"
   ]
  },
  {
   "cell_type": "code",
   "execution_count": 13,
   "metadata": {},
   "outputs": [
    {
     "data": {
      "text/plain": [
       "<AxesSubplot:>"
      ]
     },
     "execution_count": 13,
     "metadata": {},
     "output_type": "execute_result"
    },
    {
     "data": {
      "image/png": "[encoded data removed]",
      "text/plain": [
       "<Figure size 432x288 with 2 Axes>"
      ]
     },
     "metadata": {
      "needs_background": "light"
     },
     "output_type": "display_data"
    }
   ],
   "source": [
    "#excel_data_df[\"Distance from Centre\"].max()\n",
    "#excel_data_df[excel_data_df[\"Distance from Centre\"]==excel_data_df[\"Distance from Centre\"].max()]\n",
    "#excel_data_df[excel_data_df[\"Distance from Centre\"]<600]\n",
    "from pandas import DataFrame\n",
    "import seaborn as sns\n",
    "%matplotlib inline\n",
    "\n",
    "Index= [i for i in range(14)]\n",
    "Cols = [i for i in range(31)]\n",
    "alist=excel_data_df[\"Distance from Centre\"]\n",
    "alist= pandas.Series(alist).values\n",
    "alist = alist.reshape(14,31)\n",
    "\n",
    "df = DataFrame(alist,index=Index, columns=Cols)\n",
    "\n",
    "sns.heatmap(df)"
   ]
  },
  {
   "cell_type": "code",
   "execution_count": 2,
   "metadata": {},
   "outputs": [
    {
     "data": {
      "text/plain": [
       "<AxesSubplot:>"
      ]
     },
     "execution_count": 2,
     "metadata": {},
     "output_type": "execute_result"
    },
    {
     "data": {
      "image/png": "[encoded data removed]",
      "text/plain": [
       "<Figure size 432x288 with 2 Axes>"
      ]
     },
     "metadata": {
      "needs_background": "light"
     },
     "output_type": "display_data"
    }
   ],
   "source": [
    "from pandas import DataFrame\n",
    "import seaborn as sns\n",
    "%matplotlib inline\n",
    "\n",
    "Index= [i for i in range(14)]\n",
    "Cols = [i for i in range(31)]\n",
    "alist=excel_data_df['Demand_0']\n",
    "alist= pandas.Series(alist).values\n",
    "alist = alist.reshape(14,31)\n",
    "\n",
    "df = DataFrame(alist,index=Index, columns=Cols)\n",
    "\n",
    "sns.heatmap(df)"
   ]
  },
  {
   "cell_type": "code",
   "execution_count": 5,
   "metadata": {},
   "outputs": [
    {
     "data": {
      "text/plain": [
       "<AxesSubplot:>"
      ]
     },
     "execution_count": 5,
     "metadata": {},
     "output_type": "execute_result"
    },
    {
     "data": {
      "image/png": "[encoded data removed]",
      "text/plain": [
       "<Figure size 432x288 with 2 Axes>"
      ]
     },
     "metadata": {
      "needs_background": "light"
     },
     "output_type": "display_data"
    }
   ],
   "source": [
    "from pandas import DataFrame\n",
    "import seaborn as sns\n",
    "%matplotlib inline\n",
    "\n",
    "Index= [i for i in range(14)]\n",
    "Cols = [i for i in range(31)]\n",
    "alist=excel_data_df['Number of PoI']\n",
    "alist= pandas.Series(alist).values\n",
    "alist = alist.reshape(14,31)\n",
    "\n",
    "df = DataFrame(alist,index=Index, columns=Cols)\n",
    "\n",
    "sns.heatmap(df)\n"
   ]
  },
  {
   "cell_type": "code",
   "execution_count": null,
   "metadata": {},
   "outputs": [],
   "source": []
  }
 ],
 "metadata": {
  "interpreter": {
   "hash": "4736f1273e8193454370c3224bf9346b1fdf41853ad84447ddb9cd8a9c05594a"
  },
  "kernelspec": {
   "display_name": "Python 3.9.12 ('base')",
   "language": "python",
   "name": "python3"
  },
  "language_info": {
   "codemirror_mode": {
    "name": "ipython",
    "version": 3
   },
   "file_extension": ".py",
   "mimetype": "text/x-python",
   "name": "python",
   "nbconvert_exporter": "python",
   "pygments_lexer": "ipython3",
   "version": "3.9.12"
  },
  "orig_nbformat": 4,
  "vscode": {
   "interpreter": {
    "hash": "ad2bdc8ecc057115af97d19610ffacc2b4e99fae6737bb82f5d7fb13d2f2c186"
   }
  }
 },
 "nbformat": 4,
 "nbformat_minor": 2
}
